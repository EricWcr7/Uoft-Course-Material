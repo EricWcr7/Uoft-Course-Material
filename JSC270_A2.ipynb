{
  "nbformat": 4,
  "nbformat_minor": 0,
  "metadata": {
    "colab": {
      "provenance": [],
      "authorship_tag": "ABX9TyOuqFN738vTZSi+308pS06v",
      "include_colab_link": true
    },
    "kernelspec": {
      "name": "python3",
      "display_name": "Python 3"
    },
    "language_info": {
      "name": "python"
    }
  },
  "cells": [
    {
      "cell_type": "markdown",
      "metadata": {
        "id": "view-in-github",
        "colab_type": "text"
      },
      "source": [
        "<a href=\"https://colab.research.google.com/github/EricWcr7/Uoft-Course-Material/blob/master/JSC270_A2.ipynb\" target=\"_parent\"><img src=\"https://colab.research.google.com/assets/colab-badge.svg\" alt=\"Open In Colab\"/></a>"
      ]
    },
    {
      "cell_type": "markdown",
      "source": [
        "[Click here to open this notebook in Google Colab](https://colab.research.google.com/github/EricWcr7/JSC270_HW2_2025_YWang\n",
        "/blob/main/JSC270_A2.ipynb)\n"
      ],
      "metadata": {
        "id": "EPqvUOugdE_Z"
      }
    },
    {
      "cell_type": "markdown",
      "source": [
        "#Exploring income and its correlated factors in 1994 America\n",
        "\n",
        "***\n",
        "Here are the libraries and packages for this data analysis:"
      ],
      "metadata": {
        "id": "wioY1m3Lp9Q4"
      }
    },
    {
      "cell_type": "code",
      "source": [
        "import pandas as pd\n",
        "import numpy as np\n",
        "import matplotlib.pyplot as plt\n",
        "import seaborn as sns\n",
        "from scipy import stats\n",
        "import statsmodels.api as sm\n",
        "import statsmodels.formula.api as smf"
      ],
      "metadata": {
        "id": "3VKGoTJ7ttqN"
      },
      "execution_count": 2,
      "outputs": []
    },
    {
      "cell_type": "markdown",
      "source": [
        "***\n",
        "Importing Data:"
      ],
      "metadata": {
        "id": "nKeFTlupucmp"
      }
    },
    {
      "cell_type": "code",
      "source": [
        "income94 = pd.read_csv('https://archive.ics.uci.edu/ml/machine-learning-databases/adult/adult.data', header=None)\n",
        "income94.columns = ['age','workclass', 'fnlwgt','education','education_num','marital_status','occupation',\n",
        "                    'relationship','race','sex','capital_gain','capital_loss','hours_per_week','native_country','gross_income_group']"
      ],
      "metadata": {
        "id": "llJERybEuiiO"
      },
      "execution_count": 3,
      "outputs": []
    },
    {
      "cell_type": "markdown",
      "source": [
        "***\n",
        "***\n",
        "##Initial Data Exploration\n",
        "\n",
        "***\n",
        "***Intial Data Exploration Q1 Starts***\n",
        "1. Check the columns of your data. Are they the expected data types based on their descriptions in this text file description of the data?"
      ],
      "metadata": {
        "id": "4Ie8lKlNstOu"
      }
    },
    {
      "cell_type": "code",
      "source": [
        "income94.info() # Check for dtypes"
      ],
      "metadata": {
        "colab": {
          "base_uri": "https://localhost:8080/"
        },
        "id": "lYu3xwTGwzCT",
        "outputId": "eb5b4963-5876-4867-fc13-d724563f7431"
      },
      "execution_count": 4,
      "outputs": [
        {
          "output_type": "stream",
          "name": "stdout",
          "text": [
            "<class 'pandas.core.frame.DataFrame'>\n",
            "RangeIndex: 32561 entries, 0 to 32560\n",
            "Data columns (total 15 columns):\n",
            " #   Column              Non-Null Count  Dtype \n",
            "---  ------              --------------  ----- \n",
            " 0   age                 32561 non-null  int64 \n",
            " 1   workclass           32561 non-null  object\n",
            " 2   fnlwgt              32561 non-null  int64 \n",
            " 3   education           32561 non-null  object\n",
            " 4   education_num       32561 non-null  int64 \n",
            " 5   marital_status      32561 non-null  object\n",
            " 6   occupation          32561 non-null  object\n",
            " 7   relationship        32561 non-null  object\n",
            " 8   race                32561 non-null  object\n",
            " 9   sex                 32561 non-null  object\n",
            " 10  capital_gain        32561 non-null  int64 \n",
            " 11  capital_loss        32561 non-null  int64 \n",
            " 12  hours_per_week      32561 non-null  int64 \n",
            " 13  native_country      32561 non-null  object\n",
            " 14  gross_income_group  32561 non-null  object\n",
            "dtypes: int64(6), object(9)\n",
            "memory usage: 3.7+ MB\n"
          ]
        }
      ]
    },
    {
      "cell_type": "markdown",
      "source": [
        "***Initial Data Exploration Q1 Ends***"
      ],
      "metadata": {
        "id": "UO9IO9-LMBHu"
      }
    },
    {
      "cell_type": "markdown",
      "source": [
        "***\n",
        "***Initial Data Exploration Q2 Starts***\n",
        "2. How are missing values represented in this data? Cast missing values to np.nan, if necessary. Count the number of missing values in each column."
      ],
      "metadata": {
        "id": "bB56pdeCvvCQ"
      }
    },
    {
      "cell_type": "code",
      "source": [
        "income94.shape # Check the total rows in this dataset"
      ],
      "metadata": {
        "colab": {
          "base_uri": "https://localhost:8080/"
        },
        "id": "rzSbUV-avuxw",
        "outputId": "7d18ff7e-1526-4e2a-dd27-6bf0734320b5"
      },
      "execution_count": 5,
      "outputs": [
        {
          "output_type": "execute_result",
          "data": {
            "text/plain": [
              "(32561, 15)"
            ]
          },
          "metadata": {},
          "execution_count": 5
        }
      ]
    },
    {
      "cell_type": "code",
      "source": [
        "print((income94 == \" ?\").sum()) # Have checked \"?\" and \"? \" before and the results are all 0"
      ],
      "metadata": {
        "colab": {
          "base_uri": "https://localhost:8080/"
        },
        "id": "p6beZNut7EHi",
        "outputId": "7f7636c4-63dd-445c-e7c6-67298fe9d084"
      },
      "execution_count": 6,
      "outputs": [
        {
          "output_type": "stream",
          "name": "stdout",
          "text": [
            "age                      0\n",
            "workclass             1836\n",
            "fnlwgt                   0\n",
            "education                0\n",
            "education_num            0\n",
            "marital_status           0\n",
            "occupation            1843\n",
            "relationship             0\n",
            "race                     0\n",
            "sex                      0\n",
            "capital_gain             0\n",
            "capital_loss             0\n",
            "hours_per_week           0\n",
            "native_country         583\n",
            "gross_income_group       0\n",
            "dtype: int64\n"
          ]
        }
      ]
    },
    {
      "cell_type": "code",
      "source": [
        "# Strip leading and trailing whitespace from all string columns for safety search in the print statement\n",
        "income94 = income94.applymap(lambda x: x.strip() if isinstance(x, str) else x)\n",
        "print((income94 == '?').sum())"
      ],
      "metadata": {
        "colab": {
          "base_uri": "https://localhost:8080/"
        },
        "id": "-d44oaLI-V-0",
        "outputId": "0a738085-bda3-4b82-a2f9-107be0acddcb"
      },
      "execution_count": 7,
      "outputs": [
        {
          "output_type": "stream",
          "name": "stderr",
          "text": [
            "<ipython-input-7-eff892fd32da>:2: FutureWarning: DataFrame.applymap has been deprecated. Use DataFrame.map instead.\n",
            "  income94 = income94.applymap(lambda x: x.strip() if isinstance(x, str) else x)\n"
          ]
        },
        {
          "output_type": "stream",
          "name": "stdout",
          "text": [
            "age                      0\n",
            "workclass             1836\n",
            "fnlwgt                   0\n",
            "education                0\n",
            "education_num            0\n",
            "marital_status           0\n",
            "occupation            1843\n",
            "relationship             0\n",
            "race                     0\n",
            "sex                      0\n",
            "capital_gain             0\n",
            "capital_loss             0\n",
            "hours_per_week           0\n",
            "native_country         583\n",
            "gross_income_group       0\n",
            "dtype: int64\n"
          ]
        }
      ]
    },
    {
      "cell_type": "code",
      "source": [
        "rows_with_question_mark = income94.apply(lambda row: '?' in row.values, axis=1).sum() # Count rows that contain at least one \"?\" in any of the variable columns\n",
        "print(f\"Number of rows containing '?': {rows_with_question_mark}\")"
      ],
      "metadata": {
        "colab": {
          "base_uri": "https://localhost:8080/"
        },
        "id": "knHKL0NyBUpT",
        "outputId": "dc699b66-77b0-4366-8234-6f459f7987d0"
      },
      "execution_count": 8,
      "outputs": [
        {
          "output_type": "stream",
          "name": "stdout",
          "text": [
            "Number of rows containing '?': 2399\n"
          ]
        }
      ]
    },
    {
      "cell_type": "code",
      "source": [
        "income94 = income94.replace('?', np.nan) # Cast the missing values to NaN\n",
        "income94[income94[\"fnlwgt\"] == 304873] # Check an instance that whether the changes applied."
      ],
      "metadata": {
        "colab": {
          "base_uri": "https://localhost:8080/",
          "height": 81
        },
        "id": "p3dE-rImCkIG",
        "outputId": "c1e93de5-96a0-4e36-91b2-957a277c50d3"
      },
      "execution_count": 9,
      "outputs": [
        {
          "output_type": "execute_result",
          "data": {
            "text/plain": [
              "     age workclass  fnlwgt education  education_num marital_status occupation  \\\n",
              "106   17       NaN  304873      10th              6  Never-married        NaN   \n",
              "\n",
              "    relationship   race     sex  capital_gain  capital_loss  hours_per_week  \\\n",
              "106    Own-child  White  Female         34095             0              32   \n",
              "\n",
              "    native_country gross_income_group  \n",
              "106  United-States              <=50K  "
            ],
            "text/html": [
              "\n",
              "  <div id=\"df-41c4d293-3d67-414f-a19d-ee1e637ab60f\" class=\"colab-df-container\">\n",
              "    <div>\n",
              "<style scoped>\n",
              "    .dataframe tbody tr th:only-of-type {\n",
              "        vertical-align: middle;\n",
              "    }\n",
              "\n",
              "    .dataframe tbody tr th {\n",
              "        vertical-align: top;\n",
              "    }\n",
              "\n",
              "    .dataframe thead th {\n",
              "        text-align: right;\n",
              "    }\n",
              "</style>\n",
              "<table border=\"1\" class=\"dataframe\">\n",
              "  <thead>\n",
              "    <tr style=\"text-align: right;\">\n",
              "      <th></th>\n",
              "      <th>age</th>\n",
              "      <th>workclass</th>\n",
              "      <th>fnlwgt</th>\n",
              "      <th>education</th>\n",
              "      <th>education_num</th>\n",
              "      <th>marital_status</th>\n",
              "      <th>occupation</th>\n",
              "      <th>relationship</th>\n",
              "      <th>race</th>\n",
              "      <th>sex</th>\n",
              "      <th>capital_gain</th>\n",
              "      <th>capital_loss</th>\n",
              "      <th>hours_per_week</th>\n",
              "      <th>native_country</th>\n",
              "      <th>gross_income_group</th>\n",
              "    </tr>\n",
              "  </thead>\n",
              "  <tbody>\n",
              "    <tr>\n",
              "      <th>106</th>\n",
              "      <td>17</td>\n",
              "      <td>NaN</td>\n",
              "      <td>304873</td>\n",
              "      <td>10th</td>\n",
              "      <td>6</td>\n",
              "      <td>Never-married</td>\n",
              "      <td>NaN</td>\n",
              "      <td>Own-child</td>\n",
              "      <td>White</td>\n",
              "      <td>Female</td>\n",
              "      <td>34095</td>\n",
              "      <td>0</td>\n",
              "      <td>32</td>\n",
              "      <td>United-States</td>\n",
              "      <td>&lt;=50K</td>\n",
              "    </tr>\n",
              "  </tbody>\n",
              "</table>\n",
              "</div>\n",
              "    <div class=\"colab-df-buttons\">\n",
              "\n",
              "  <div class=\"colab-df-container\">\n",
              "    <button class=\"colab-df-convert\" onclick=\"convertToInteractive('df-41c4d293-3d67-414f-a19d-ee1e637ab60f')\"\n",
              "            title=\"Convert this dataframe to an interactive table.\"\n",
              "            style=\"display:none;\">\n",
              "\n",
              "  <svg xmlns=\"http://www.w3.org/2000/svg\" height=\"24px\" viewBox=\"0 -960 960 960\">\n",
              "    <path d=\"M120-120v-720h720v720H120Zm60-500h600v-160H180v160Zm220 220h160v-160H400v160Zm0 220h160v-160H400v160ZM180-400h160v-160H180v160Zm440 0h160v-160H620v160ZM180-180h160v-160H180v160Zm440 0h160v-160H620v160Z\"/>\n",
              "  </svg>\n",
              "    </button>\n",
              "\n",
              "  <style>\n",
              "    .colab-df-container {\n",
              "      display:flex;\n",
              "      gap: 12px;\n",
              "    }\n",
              "\n",
              "    .colab-df-convert {\n",
              "      background-color: #E8F0FE;\n",
              "      border: none;\n",
              "      border-radius: 50%;\n",
              "      cursor: pointer;\n",
              "      display: none;\n",
              "      fill: #1967D2;\n",
              "      height: 32px;\n",
              "      padding: 0 0 0 0;\n",
              "      width: 32px;\n",
              "    }\n",
              "\n",
              "    .colab-df-convert:hover {\n",
              "      background-color: #E2EBFA;\n",
              "      box-shadow: 0px 1px 2px rgba(60, 64, 67, 0.3), 0px 1px 3px 1px rgba(60, 64, 67, 0.15);\n",
              "      fill: #174EA6;\n",
              "    }\n",
              "\n",
              "    .colab-df-buttons div {\n",
              "      margin-bottom: 4px;\n",
              "    }\n",
              "\n",
              "    [theme=dark] .colab-df-convert {\n",
              "      background-color: #3B4455;\n",
              "      fill: #D2E3FC;\n",
              "    }\n",
              "\n",
              "    [theme=dark] .colab-df-convert:hover {\n",
              "      background-color: #434B5C;\n",
              "      box-shadow: 0px 1px 3px 1px rgba(0, 0, 0, 0.15);\n",
              "      filter: drop-shadow(0px 1px 2px rgba(0, 0, 0, 0.3));\n",
              "      fill: #FFFFFF;\n",
              "    }\n",
              "  </style>\n",
              "\n",
              "    <script>\n",
              "      const buttonEl =\n",
              "        document.querySelector('#df-41c4d293-3d67-414f-a19d-ee1e637ab60f button.colab-df-convert');\n",
              "      buttonEl.style.display =\n",
              "        google.colab.kernel.accessAllowed ? 'block' : 'none';\n",
              "\n",
              "      async function convertToInteractive(key) {\n",
              "        const element = document.querySelector('#df-41c4d293-3d67-414f-a19d-ee1e637ab60f');\n",
              "        const dataTable =\n",
              "          await google.colab.kernel.invokeFunction('convertToInteractive',\n",
              "                                                    [key], {});\n",
              "        if (!dataTable) return;\n",
              "\n",
              "        const docLinkHtml = 'Like what you see? Visit the ' +\n",
              "          '<a target=\"_blank\" href=https://colab.research.google.com/notebooks/data_table.ipynb>data table notebook</a>'\n",
              "          + ' to learn more about interactive tables.';\n",
              "        element.innerHTML = '';\n",
              "        dataTable['output_type'] = 'display_data';\n",
              "        await google.colab.output.renderOutput(dataTable, element);\n",
              "        const docLink = document.createElement('div');\n",
              "        docLink.innerHTML = docLinkHtml;\n",
              "        element.appendChild(docLink);\n",
              "      }\n",
              "    </script>\n",
              "  </div>\n",
              "\n",
              "\n",
              "    </div>\n",
              "  </div>\n"
            ],
            "application/vnd.google.colaboratory.intrinsic+json": {
              "type": "dataframe",
              "repr_error": "0"
            }
          },
          "metadata": {},
          "execution_count": 9
        }
      ]
    },
    {
      "cell_type": "code",
      "source": [
        "# Count missing values and rename the column\n",
        "missing_values_per_column = income94.isna().sum().rename(\"NaN Counts\")\n",
        "\n",
        "# Display missing value counts with the new column name\n",
        "missing_values_per_column"
      ],
      "metadata": {
        "id": "rt5M4A_OC7hR",
        "colab": {
          "base_uri": "https://localhost:8080/",
          "height": 554
        },
        "outputId": "d5400f0e-de44-464c-b0f5-a301a0a3fa3b"
      },
      "execution_count": 10,
      "outputs": [
        {
          "output_type": "execute_result",
          "data": {
            "text/plain": [
              "age                      0\n",
              "workclass             1836\n",
              "fnlwgt                   0\n",
              "education                0\n",
              "education_num            0\n",
              "marital_status           0\n",
              "occupation            1843\n",
              "relationship             0\n",
              "race                     0\n",
              "sex                      0\n",
              "capital_gain             0\n",
              "capital_loss             0\n",
              "hours_per_week           0\n",
              "native_country         583\n",
              "gross_income_group       0\n",
              "Name: NaN Counts, dtype: int64"
            ],
            "text/html": [
              "<div>\n",
              "<style scoped>\n",
              "    .dataframe tbody tr th:only-of-type {\n",
              "        vertical-align: middle;\n",
              "    }\n",
              "\n",
              "    .dataframe tbody tr th {\n",
              "        vertical-align: top;\n",
              "    }\n",
              "\n",
              "    .dataframe thead th {\n",
              "        text-align: right;\n",
              "    }\n",
              "</style>\n",
              "<table border=\"1\" class=\"dataframe\">\n",
              "  <thead>\n",
              "    <tr style=\"text-align: right;\">\n",
              "      <th></th>\n",
              "      <th>NaN Counts</th>\n",
              "    </tr>\n",
              "  </thead>\n",
              "  <tbody>\n",
              "    <tr>\n",
              "      <th>age</th>\n",
              "      <td>0</td>\n",
              "    </tr>\n",
              "    <tr>\n",
              "      <th>workclass</th>\n",
              "      <td>1836</td>\n",
              "    </tr>\n",
              "    <tr>\n",
              "      <th>fnlwgt</th>\n",
              "      <td>0</td>\n",
              "    </tr>\n",
              "    <tr>\n",
              "      <th>education</th>\n",
              "      <td>0</td>\n",
              "    </tr>\n",
              "    <tr>\n",
              "      <th>education_num</th>\n",
              "      <td>0</td>\n",
              "    </tr>\n",
              "    <tr>\n",
              "      <th>marital_status</th>\n",
              "      <td>0</td>\n",
              "    </tr>\n",
              "    <tr>\n",
              "      <th>occupation</th>\n",
              "      <td>1843</td>\n",
              "    </tr>\n",
              "    <tr>\n",
              "      <th>relationship</th>\n",
              "      <td>0</td>\n",
              "    </tr>\n",
              "    <tr>\n",
              "      <th>race</th>\n",
              "      <td>0</td>\n",
              "    </tr>\n",
              "    <tr>\n",
              "      <th>sex</th>\n",
              "      <td>0</td>\n",
              "    </tr>\n",
              "    <tr>\n",
              "      <th>capital_gain</th>\n",
              "      <td>0</td>\n",
              "    </tr>\n",
              "    <tr>\n",
              "      <th>capital_loss</th>\n",
              "      <td>0</td>\n",
              "    </tr>\n",
              "    <tr>\n",
              "      <th>hours_per_week</th>\n",
              "      <td>0</td>\n",
              "    </tr>\n",
              "    <tr>\n",
              "      <th>native_country</th>\n",
              "      <td>583</td>\n",
              "    </tr>\n",
              "    <tr>\n",
              "      <th>gross_income_group</th>\n",
              "      <td>0</td>\n",
              "    </tr>\n",
              "  </tbody>\n",
              "</table>\n",
              "</div><br><label><b>dtype:</b> int64</label>"
            ]
          },
          "metadata": {},
          "execution_count": 10
        }
      ]
    },
    {
      "cell_type": "markdown",
      "source": [
        "***Initial Data Exploration Q2 Ends***"
      ],
      "metadata": {
        "id": "p7OjwZ5_MKvT"
      }
    },
    {
      "cell_type": "markdown",
      "source": [
        "***\n",
        "***Initial Data Exploration Q3 Starts***\n",
        "3. Individually plot the distributions of capital_gain and capital_loss.  Do you think these variables should be transformed to categorical variables? Why or why not? If yes, create a new variable(s) with your suggested transformation and plot or describe in a table the distribution of the new categorical variable(s)."
      ],
      "metadata": {
        "id": "QwZsb5VdQlLe"
      }
    },
    {
      "cell_type": "code",
      "source": [
        "# Set style for better visualization\n",
        "sns.set_style(\"whitegrid\")\n",
        "\n",
        "# Plot histogram for capital_gain\n",
        "plt.figure(figsize=(8, 5))\n",
        "sns.histplot(income94['capital_gain'], bins=50, kde=False)\n",
        "plt.title(\"Figure 1: Distribution of Capital Gain\")\n",
        "plt.xlabel(\"Capital Gain\")\n",
        "plt.ylabel(\"Count\")\n",
        "plt.show()"
      ],
      "metadata": {
        "colab": {
          "base_uri": "https://localhost:8080/",
          "height": 487
        },
        "id": "Ee5lora0SR3U",
        "outputId": "2047ce5b-ebb5-4099-f32a-45abfaf7b628"
      },
      "execution_count": 11,
      "outputs": [
        {
          "output_type": "display_data",
          "data": {
            "text/plain": [
              "<Figure size 800x500 with 1 Axes>"
            ],
            "image/png": "[encoded data removed]"
          },
          "metadata": {}
        }
      ]
    },
    {
      "cell_type": "code",
      "source": [
        "# Plot histogram for capital_loss\n",
        "plt.figure(figsize=(8, 5))\n",
        "sns.histplot(income94['capital_loss'], bins=50, kde=False)\n",
        "plt.title(\"Figure 2: Distribution of Capital Loss\")\n",
        "plt.xlabel(\"Capital Loss\")\n",
        "plt.ylabel(\"Count\")\n",
        "plt.show()"
      ],
      "metadata": {
        "colab": {
          "base_uri": "https://localhost:8080/",
          "height": 487
        },
        "id": "auVRELo7S_yi",
        "outputId": "d33059f9-798c-46ed-9c55-1d6fc5ac9163"
      },
      "execution_count": 12,
      "outputs": [
        {
          "output_type": "display_data",
          "data": {
            "text/plain": [
              "<Figure size 800x500 with 1 Axes>"
            ],
            "image/png": "[encoded data removed]"
          },
          "metadata": {}
        }
      ]
    },
    {
      "cell_type": "code",
      "source": [
        "income94['capital_loss'].value_counts() # Confirm with the histogram"
      ],
      "metadata": {
        "colab": {
          "base_uri": "https://localhost:8080/",
          "height": 490
        },
        "id": "OmgylWG2VFSp",
        "outputId": "6d3563ed-8ae4-48cc-b0f1-fed09c9b2dcf"
      },
      "execution_count": 13,
      "outputs": [
        {
          "output_type": "execute_result",
          "data": {
            "text/plain": [
              "capital_loss\n",
              "0       31042\n",
              "1902      202\n",
              "1977      168\n",
              "1887      159\n",
              "1848       51\n",
              "        ...  \n",
              "2080        1\n",
              "1539        1\n",
              "1844        1\n",
              "2489        1\n",
              "1411        1\n",
              "Name: count, Length: 92, dtype: int64"
            ],
            "text/html": [
              "<div>\n",
              "<style scoped>\n",
              "    .dataframe tbody tr th:only-of-type {\n",
              "        vertical-align: middle;\n",
              "    }\n",
              "\n",
              "    .dataframe tbody tr th {\n",
              "        vertical-align: top;\n",
              "    }\n",
              "\n",
              "    .dataframe thead th {\n",
              "        text-align: right;\n",
              "    }\n",
              "</style>\n",
              "<table border=\"1\" class=\"dataframe\">\n",
              "  <thead>\n",
              "    <tr style=\"text-align: right;\">\n",
              "      <th></th>\n",
              "      <th>count</th>\n",
              "    </tr>\n",
              "    <tr>\n",
              "      <th>capital_loss</th>\n",
              "      <th></th>\n",
              "    </tr>\n",
              "  </thead>\n",
              "  <tbody>\n",
              "    <tr>\n",
              "      <th>0</th>\n",
              "      <td>31042</td>\n",
              "    </tr>\n",
              "    <tr>\n",
              "      <th>1902</th>\n",
              "      <td>202</td>\n",
              "    </tr>\n",
              "    <tr>\n",
              "      <th>1977</th>\n",
              "      <td>168</td>\n",
              "    </tr>\n",
              "    <tr>\n",
              "      <th>1887</th>\n",
              "      <td>159</td>\n",
              "    </tr>\n",
              "    <tr>\n",
              "      <th>1848</th>\n",
              "      <td>51</td>\n",
              "    </tr>\n",
              "    <tr>\n",
              "      <th>...</th>\n",
              "      <td>...</td>\n",
              "    </tr>\n",
              "    <tr>\n",
              "      <th>2080</th>\n",
              "      <td>1</td>\n",
              "    </tr>\n",
              "    <tr>\n",
              "      <th>1539</th>\n",
              "      <td>1</td>\n",
              "    </tr>\n",
              "    <tr>\n",
              "      <th>1844</th>\n",
              "      <td>1</td>\n",
              "    </tr>\n",
              "    <tr>\n",
              "      <th>2489</th>\n",
              "      <td>1</td>\n",
              "    </tr>\n",
              "    <tr>\n",
              "      <th>1411</th>\n",
              "      <td>1</td>\n",
              "    </tr>\n",
              "  </tbody>\n",
              "</table>\n",
              "<p>92 rows × 1 columns</p>\n",
              "</div><br><label><b>dtype:</b> int64</label>"
            ]
          },
          "metadata": {},
          "execution_count": 13
        }
      ]
    },
    {
      "cell_type": "code",
      "source": [
        "income94['capital_gain'].value_counts() # Confirm with the histogram"
      ],
      "metadata": {
        "colab": {
          "base_uri": "https://localhost:8080/",
          "height": 490
        },
        "id": "0m7_4JsfVueZ",
        "outputId": "3c44eb9c-31cd-44a7-e108-15f31f39d945"
      },
      "execution_count": 14,
      "outputs": [
        {
          "output_type": "execute_result",
          "data": {
            "text/plain": [
              "capital_gain\n",
              "0        29849\n",
              "15024      347\n",
              "7688       284\n",
              "7298       246\n",
              "99999      159\n",
              "         ...  \n",
              "1111         1\n",
              "2538         1\n",
              "22040        1\n",
              "4931         1\n",
              "5060         1\n",
              "Name: count, Length: 119, dtype: int64"
            ],
            "text/html": [
              "<div>\n",
              "<style scoped>\n",
              "    .dataframe tbody tr th:only-of-type {\n",
              "        vertical-align: middle;\n",
              "    }\n",
              "\n",
              "    .dataframe tbody tr th {\n",
              "        vertical-align: top;\n",
              "    }\n",
              "\n",
              "    .dataframe thead th {\n",
              "        text-align: right;\n",
              "    }\n",
              "</style>\n",
              "<table border=\"1\" class=\"dataframe\">\n",
              "  <thead>\n",
              "    <tr style=\"text-align: right;\">\n",
              "      <th></th>\n",
              "      <th>count</th>\n",
              "    </tr>\n",
              "    <tr>\n",
              "      <th>capital_gain</th>\n",
              "      <th></th>\n",
              "    </tr>\n",
              "  </thead>\n",
              "  <tbody>\n",
              "    <tr>\n",
              "      <th>0</th>\n",
              "      <td>29849</td>\n",
              "    </tr>\n",
              "    <tr>\n",
              "      <th>15024</th>\n",
              "      <td>347</td>\n",
              "    </tr>\n",
              "    <tr>\n",
              "      <th>7688</th>\n",
              "      <td>284</td>\n",
              "    </tr>\n",
              "    <tr>\n",
              "      <th>7298</th>\n",
              "      <td>246</td>\n",
              "    </tr>\n",
              "    <tr>\n",
              "      <th>99999</th>\n",
              "      <td>159</td>\n",
              "    </tr>\n",
              "    <tr>\n",
              "      <th>...</th>\n",
              "      <td>...</td>\n",
              "    </tr>\n",
              "    <tr>\n",
              "      <th>1111</th>\n",
              "      <td>1</td>\n",
              "    </tr>\n",
              "    <tr>\n",
              "      <th>2538</th>\n",
              "      <td>1</td>\n",
              "    </tr>\n",
              "    <tr>\n",
              "      <th>22040</th>\n",
              "      <td>1</td>\n",
              "    </tr>\n",
              "    <tr>\n",
              "      <th>4931</th>\n",
              "      <td>1</td>\n",
              "    </tr>\n",
              "    <tr>\n",
              "      <th>5060</th>\n",
              "      <td>1</td>\n",
              "    </tr>\n",
              "  </tbody>\n",
              "</table>\n",
              "<p>119 rows × 1 columns</p>\n",
              "</div><br><label><b>dtype:</b> int64</label>"
            ]
          },
          "metadata": {},
          "execution_count": 14
        }
      ]
    },
    {
      "cell_type": "code",
      "source": [
        "# Create binary categorical variables\n",
        "income94['capital_gain_group'] = income94['capital_gain'].apply(lambda x: 'Has Gain' if x > 0 else 'No Gain')\n",
        "income94['capital_loss_group'] = income94['capital_loss'].apply(lambda x: 'Has Loss' if x > 0 else 'No Loss')"
      ],
      "metadata": {
        "id": "w24fkAcdVv1c"
      },
      "execution_count": 15,
      "outputs": []
    },
    {
      "cell_type": "code",
      "source": [
        "# Plot bar plot for capital gain group\n",
        "plt.figure(figsize=(6,4))\n",
        "sns.countplot(x='capital_gain_group', data=income94)\n",
        "plt.title(\"Figure 3: Visualization of Capital Gain Group\")\n",
        "plt.xlabel(\"Capital Gain Group\")\n",
        "plt.ylabel(\"Count\")\n",
        "plt.show()"
      ],
      "metadata": {
        "colab": {
          "base_uri": "https://localhost:8080/",
          "height": 410
        },
        "id": "9D8BIQXWWZVp",
        "outputId": "2b11e097-efb1-4158-dfba-1b996d0c354e"
      },
      "execution_count": 16,
      "outputs": [
        {
          "output_type": "display_data",
          "data": {
            "text/plain": [
              "<Figure size 600x400 with 1 Axes>"
            ],
            "image/png": "[encoded data removed]"
          },
          "metadata": {}
        }
      ]
    },
    {
      "cell_type": "code",
      "source": [
        "# Plot bar plot for capital loss group\n",
        "plt.figure(figsize=(6,4))\n",
        "sns.countplot(x='capital_loss_group', data=income94)\n",
        "plt.title(\"Figure 4: Visualization of Capital Loss Group\")\n",
        "plt.xlabel(\"Capital Loss Group\")\n",
        "plt.ylabel(\"Count\")\n",
        "plt.show()"
      ],
      "metadata": {
        "colab": {
          "base_uri": "https://localhost:8080/",
          "height": 410
        },
        "id": "CCq8bwLAWboQ",
        "outputId": "1c70520a-d821-4063-8da5-c5ba44dab598"
      },
      "execution_count": 17,
      "outputs": [
        {
          "output_type": "display_data",
          "data": {
            "text/plain": [
              "<Figure size 600x400 with 1 Axes>"
            ],
            "image/png": "[encoded data removed]"
          },
          "metadata": {}
        }
      ]
    },
    {
      "cell_type": "markdown",
      "source": [
        "**Initial Data Exploration Q3 Ends**\n",
        "***"
      ],
      "metadata": {
        "id": "e4du6YI8XYGc"
      }
    },
    {
      "cell_type": "markdown",
      "source": [
        "***Initial Data Exploration Q4 Starts***\n",
        "\n",
        "4. The sampling weights in the dataset are contained in the variable fnlwgt. The weights indicate the share of the population that sample represents based on location (and sometimes, other factors).  More information is provided in  this text file description of the data.\n",
        "Plot or numerically explore the distribution of fnlwgt. Is the variable symmetrically distributed? Compare the distribution of this variable between men and women and comment on any trends you notice. Should outliers be excluded? If you think yes, set the fnlwgt values for those you deem to be outliers as missing for the remainder of your analyses."
      ],
      "metadata": {
        "id": "G8--rHWeabUN"
      }
    },
    {
      "cell_type": "code",
      "source": [
        "# Plot histogram for fnlwgt\n",
        "plt.figure(figsize=(8, 5))\n",
        "sns.histplot(income94['fnlwgt'], bins=50, kde=False)  # kde=False removes the density line\n",
        "plt.title(\"Figure 5: Distribution of Final Weight (fnlwgt)\")\n",
        "plt.xlabel(\"Final Weight (fnlwgt)\")\n",
        "plt.ylabel(\"Count\")\n",
        "plt.show()"
      ],
      "metadata": {
        "colab": {
          "base_uri": "https://localhost:8080/",
          "height": 487
        },
        "id": "tD8Ma4apaVDN",
        "outputId": "b695bcdc-69d7-4999-ea4d-09c31aad3406"
      },
      "execution_count": 18,
      "outputs": [
        {
          "output_type": "display_data",
          "data": {
            "text/plain": [
              "<Figure size 800x500 with 1 Axes>"
            ],
            "image/png": "[encoded data removed]"
          },
          "metadata": {}
        }
      ]
    },
    {
      "cell_type": "code",
      "source": [
        "# Filter the dataset for men\n",
        "men_fnlwgt = income94[income94['sex'] == 'Male']['fnlwgt']\n",
        "\n",
        "# Plot histogram for fnlwgt of men\n",
        "plt.figure(figsize=(8, 5))\n",
        "sns.histplot(men_fnlwgt, bins=50, kde=False)  # kde=False removes the density line\n",
        "plt.title(\"Figure 6: Distribution of Final Weight (fnlwgt) for Men\")\n",
        "plt.xlabel(\"Final Weight (fnlwgt)\")\n",
        "plt.ylabel(\"Count\")\n",
        "plt.show()"
      ],
      "metadata": {
        "colab": {
          "base_uri": "https://localhost:8080/",
          "height": 487
        },
        "id": "I_1P9_X8k1QY",
        "outputId": "102460ee-a359-4060-83f3-3ae93d416d16"
      },
      "execution_count": 19,
      "outputs": [
        {
          "output_type": "display_data",
          "data": {
            "text/plain": [
              "<Figure size 800x500 with 1 Axes>"
            ],
            "image/png": "[encoded data removed]"
          },
          "metadata": {}
        }
      ]
    },
    {
      "cell_type": "code",
      "source": [
        "# Filter the dataset for men\n",
        "women_fnlwgt = income94[income94['sex'] == 'Female']['fnlwgt']\n",
        "\n",
        "# Plot histogram for fnlwgt of men\n",
        "plt.figure(figsize=(8, 5))\n",
        "sns.histplot(women_fnlwgt, bins=50, kde=False)  # kde=False removes the density line\n",
        "plt.title(\"Figure 7: Distribution of Final Weight (fnlwgt) for Women\")\n",
        "plt.xlabel(\"Final Weight (fnlwgt)\")\n",
        "plt.ylabel(\"Count\")\n",
        "plt.show()\n"
      ],
      "metadata": {
        "colab": {
          "base_uri": "https://localhost:8080/",
          "height": 487
        },
        "id": "HzU8l3bhlJAt",
        "outputId": "b2693a02-bf64-4695-fe48-d5c72e2a6fa9"
      },
      "execution_count": 20,
      "outputs": [
        {
          "output_type": "display_data",
          "data": {
            "text/plain": [
              "<Figure size 800x500 with 1 Axes>"
            ],
            "image/png": "[encoded data removed]"
          },
          "metadata": {}
        }
      ]
    },
    {
      "cell_type": "markdown",
      "source": [
        "***Initial Data Exploration Q4 Ends***"
      ],
      "metadata": {
        "id": "Nm_P2yXKwVmh"
      }
    },
    {
      "cell_type": "markdown",
      "source": [
        "***\n",
        "## Correlation\n",
        "***\n",
        "1. Find the correlations between age, education_num, and hours_per_week.\n",
        "  * Do any of the variables appear to be correlated? How did you make your assessment?\n",
        "  * Statistically test any variable pairs with a correlation coefficient > |0.1| for its difference from 0 and report your result. Is the direction and significance of your finding as expected?\n",
        "\n",
        "  * How does the correlation (and its significance) between education_num and age compare between male and female participants? Is this expected?\n",
        "  * Compute the covariance matrix for education_num and hours_per_week. What conclusions can you draw from the covariance matrix?\n",
        "***\n",
        "***Correlation Q1(a) Starts***\n",
        "\n",
        "Do any of the variables appear to be correlated? How did you make your assessment?"
      ],
      "metadata": {
        "id": "mOdF8JU2wcqn"
      }
    },
    {
      "cell_type": "code",
      "source": [
        "# Select only the required columns\n",
        "columns_keep = [\"age\", \"education_num\", \"hours_per_week\"]\n",
        "\n",
        "# Take a subset of 100 random samples for efficiency\n",
        "rng = np.random.RandomState(0)\n",
        "indices = rng.choice(np.arange(income94.shape[0]), size=100, replace=False)\n",
        "\n",
        "# Create a subset of the dataset\n",
        "subset_data = income94.iloc[indices][columns_keep]\n",
        "\n",
        "# Generate the scatterplot matrix (pairplot)\n",
        "_ = sns.pairplot(data=subset_data)"
      ],
      "metadata": {
        "colab": {
          "base_uri": "https://localhost:8080/",
          "height": 758
        },
        "id": "xLkGdhgoxaxH",
        "outputId": "dba018b6-1896-444b-a6ef-78cbbde5426b"
      },
      "execution_count": 21,
      "outputs": [
        {
          "output_type": "display_data",
          "data": {
            "text/plain": [
              "<Figure size 750x750 with 12 Axes>"
            ],
            "image/png": "[encoded data removed]"
          },
          "metadata": {}
        }
      ]
    },
    {
      "cell_type": "markdown",
      "source": [
        "***Correlation Q1(a) Ends***\n"
      ],
      "metadata": {
        "id": "u9VcPnYx3Bve"
      }
    },
    {
      "cell_type": "markdown",
      "source": [
        "***\n",
        "***Correlation Q1(b) Starts***\n",
        "\n",
        "Statistically test any variable pairs with a correlation coefficient > |0.1| for its difference from 0 and report your result. Is the direction and significance of your finding as expected?"
      ],
      "metadata": {
        "id": "_kOqQ6YA3MLV"
      }
    },
    {
      "cell_type": "code",
      "source": [
        "# Compute correlation matrix\n",
        "correlation_matrix = income94[[\"age\", \"education_num\", \"hours_per_week\"]].corr()\n",
        "\n",
        "# Display correlation matrix\n",
        "correlation_matrix"
      ],
      "metadata": {
        "colab": {
          "base_uri": "https://localhost:8080/",
          "height": 143
        },
        "id": "UxRWhPf934q4",
        "outputId": "69318cbe-54e6-4afa-82e4-4a1937890eee"
      },
      "execution_count": 22,
      "outputs": [
        {
          "output_type": "execute_result",
          "data": {
            "text/plain": [
              "                     age  education_num  hours_per_week\n",
              "age             1.000000       0.036527        0.068756\n",
              "education_num   0.036527       1.000000        0.148123\n",
              "hours_per_week  0.068756       0.148123        1.000000"
            ],
            "text/html": [
              "\n",
              "  <div id=\"df-dc85f7dd-8b2b-4ae7-b672-ba968d374b66\" class=\"colab-df-container\">\n",
              "    <div>\n",
              "<style scoped>\n",
              "    .dataframe tbody tr th:only-of-type {\n",
              "        vertical-align: middle;\n",
              "    }\n",
              "\n",
              "    .dataframe tbody tr th {\n",
              "        vertical-align: top;\n",
              "    }\n",
              "\n",
              "    .dataframe thead th {\n",
              "        text-align: right;\n",
              "    }\n",
              "</style>\n",
              "<table border=\"1\" class=\"dataframe\">\n",
              "  <thead>\n",
              "    <tr style=\"text-align: right;\">\n",
              "      <th></th>\n",
              "      <th>age</th>\n",
              "      <th>education_num</th>\n",
              "      <th>hours_per_week</th>\n",
              "    </tr>\n",
              "  </thead>\n",
              "  <tbody>\n",
              "    <tr>\n",
              "      <th>age</th>\n",
              "      <td>1.000000</td>\n",
              "      <td>0.036527</td>\n",
              "      <td>0.068756</td>\n",
              "    </tr>\n",
              "    <tr>\n",
              "      <th>education_num</th>\n",
              "      <td>0.036527</td>\n",
              "      <td>1.000000</td>\n",
              "      <td>0.148123</td>\n",
              "    </tr>\n",
              "    <tr>\n",
              "      <th>hours_per_week</th>\n",
              "      <td>0.068756</td>\n",
              "      <td>0.148123</td>\n",
              "      <td>1.000000</td>\n",
              "    </tr>\n",
              "  </tbody>\n",
              "</table>\n",
              "</div>\n",
              "    <div class=\"colab-df-buttons\">\n",
              "\n",
              "  <div class=\"colab-df-container\">\n",
              "    <button class=\"colab-df-convert\" onclick=\"convertToInteractive('df-dc85f7dd-8b2b-4ae7-b672-ba968d374b66')\"\n",
              "            title=\"Convert this dataframe to an interactive table.\"\n",
              "            style=\"display:none;\">\n",
              "\n",
              "  <svg xmlns=\"http://www.w3.org/2000/svg\" height=\"24px\" viewBox=\"0 -960 960 960\">\n",
              "    <path d=\"M120-120v-720h720v720H120Zm60-500h600v-160H180v160Zm220 220h160v-160H400v160Zm0 220h160v-160H400v160ZM180-400h160v-160H180v160Zm440 0h160v-160H620v160ZM180-180h160v-160H180v160Zm440 0h160v-160H620v160Z\"/>\n",
              "  </svg>\n",
              "    </button>\n",
              "\n",
              "  <style>\n",
              "    .colab-df-container {\n",
              "      display:flex;\n",
              "      gap: 12px;\n",
              "    }\n",
              "\n",
              "    .colab-df-convert {\n",
              "      background-color: #E8F0FE;\n",
              "      border: none;\n",
              "      border-radius: 50%;\n",
              "      cursor: pointer;\n",
              "      display: none;\n",
              "      fill: #1967D2;\n",
              "      height: 32px;\n",
              "      padding: 0 0 0 0;\n",
              "      width: 32px;\n",
              "    }\n",
              "\n",
              "    .colab-df-convert:hover {\n",
              "      background-color: #E2EBFA;\n",
              "      box-shadow: 0px 1px 2px rgba(60, 64, 67, 0.3), 0px 1px 3px 1px rgba(60, 64, 67, 0.15);\n",
              "      fill: #174EA6;\n",
              "    }\n",
              "\n",
              "    .colab-df-buttons div {\n",
              "      margin-bottom: 4px;\n",
              "    }\n",
              "\n",
              "    [theme=dark] .colab-df-convert {\n",
              "      background-color: #3B4455;\n",
              "      fill: #D2E3FC;\n",
              "    }\n",
              "\n",
              "    [theme=dark] .colab-df-convert:hover {\n",
              "      background-color: #434B5C;\n",
              "      box-shadow: 0px 1px 3px 1px rgba(0, 0, 0, 0.15);\n",
              "      filter: drop-shadow(0px 1px 2px rgba(0, 0, 0, 0.3));\n",
              "      fill: #FFFFFF;\n",
              "    }\n",
              "  </style>\n",
              "\n",
              "    <script>\n",
              "      const buttonEl =\n",
              "        document.querySelector('#df-dc85f7dd-8b2b-4ae7-b672-ba968d374b66 button.colab-df-convert');\n",
              "      buttonEl.style.display =\n",
              "        google.colab.kernel.accessAllowed ? 'block' : 'none';\n",
              "\n",
              "      async function convertToInteractive(key) {\n",
              "        const element = document.querySelector('#df-dc85f7dd-8b2b-4ae7-b672-ba968d374b66');\n",
              "        const dataTable =\n",
              "          await google.colab.kernel.invokeFunction('convertToInteractive',\n",
              "                                                    [key], {});\n",
              "        if (!dataTable) return;\n",
              "\n",
              "        const docLinkHtml = 'Like what you see? Visit the ' +\n",
              "          '<a target=\"_blank\" href=https://colab.research.google.com/notebooks/data_table.ipynb>data table notebook</a>'\n",
              "          + ' to learn more about interactive tables.';\n",
              "        element.innerHTML = '';\n",
              "        dataTable['output_type'] = 'display_data';\n",
              "        await google.colab.output.renderOutput(dataTable, element);\n",
              "        const docLink = document.createElement('div');\n",
              "        docLink.innerHTML = docLinkHtml;\n",
              "        element.appendChild(docLink);\n",
              "      }\n",
              "    </script>\n",
              "  </div>\n",
              "\n",
              "\n",
              "<div id=\"df-5e034730-b082-417d-bc5b-ae9a5fbcccfa\">\n",
              "  <button class=\"colab-df-quickchart\" onclick=\"quickchart('df-5e034730-b082-417d-bc5b-ae9a5fbcccfa')\"\n",
              "            title=\"Suggest charts\"\n",
              "            style=\"display:none;\">\n",
              "\n",
              "<svg xmlns=\"http://www.w3.org/2000/svg\" height=\"24px\"viewBox=\"0 0 24 24\"\n",
              "     width=\"24px\">\n",
              "    <g>\n",
              "        <path d=\"M19 3H5c-1.1 0-2 .9-2 2v14c0 1.1.9 2 2 2h14c1.1 0 2-.9 2-2V5c0-1.1-.9-2-2-2zM9 17H7v-7h2v7zm4 0h-2V7h2v10zm4 0h-2v-4h2v4z\"/>\n",
              "    </g>\n",
              "</svg>\n",
              "  </button>\n",
              "\n",
              "<style>\n",
              "  .colab-df-quickchart {\n",
              "      --bg-color: #E8F0FE;\n",
              "      --fill-color: #1967D2;\n",
              "      --hover-bg-color: #E2EBFA;\n",
              "      --hover-fill-color: #174EA6;\n",
              "      --disabled-fill-color: #AAA;\n",
              "      --disabled-bg-color: #DDD;\n",
              "  }\n",
              "\n",
              "  [theme=dark] .colab-df-quickchart {\n",
              "      --bg-color: #3B4455;\n",
              "      --fill-color: #D2E3FC;\n",
              "      --hover-bg-color: #434B5C;\n",
              "      --hover-fill-color: #FFFFFF;\n",
              "      --disabled-bg-color: #3B4455;\n",
              "      --disabled-fill-color: #666;\n",
              "  }\n",
              "\n",
              "  .colab-df-quickchart {\n",
              "    background-color: var(--bg-color);\n",
              "    border: none;\n",
              "    border-radius: 50%;\n",
              "    cursor: pointer;\n",
              "    display: none;\n",
              "    fill: var(--fill-color);\n",
              "    height: 32px;\n",
              "    padding: 0;\n",
              "    width: 32px;\n",
              "  }\n",
              "\n",
              "  .colab-df-quickchart:hover {\n",
              "    background-color: var(--hover-bg-color);\n",
              "    box-shadow: 0 1px 2px rgba(60, 64, 67, 0.3), 0 1px 3px 1px rgba(60, 64, 67, 0.15);\n",
              "    fill: var(--button-hover-fill-color);\n",
              "  }\n",
              "\n",
              "  .colab-df-quickchart-complete:disabled,\n",
              "  .colab-df-quickchart-complete:disabled:hover {\n",
              "    background-color: var(--disabled-bg-color);\n",
              "    fill: var(--disabled-fill-color);\n",
              "    box-shadow: none;\n",
              "  }\n",
              "\n",
              "  .colab-df-spinner {\n",
              "    border: 2px solid var(--fill-color);\n",
              "    border-color: transparent;\n",
              "    border-bottom-color: var(--fill-color);\n",
              "    animation:\n",
              "      spin 1s steps(1) infinite;\n",
              "  }\n",
              "\n",
              "  @keyframes spin {\n",
              "    0% {\n",
              "      border-color: transparent;\n",
              "      border-bottom-color: var(--fill-color);\n",
              "      border-left-color: var(--fill-color);\n",
              "    }\n",
              "    20% {\n",
              "      border-color: transparent;\n",
              "      border-left-color: var(--fill-color);\n",
              "      border-top-color: var(--fill-color);\n",
              "    }\n",
              "    30% {\n",
              "      border-color: transparent;\n",
              "      border-left-color: var(--fill-color);\n",
              "      border-top-color: var(--fill-color);\n",
              "      border-right-color: var(--fill-color);\n",
              "    }\n",
              "    40% {\n",
              "      border-color: transparent;\n",
              "      border-right-color: var(--fill-color);\n",
              "      border-top-color: var(--fill-color);\n",
              "    }\n",
              "    60% {\n",
              "      border-color: transparent;\n",
              "      border-right-color: var(--fill-color);\n",
              "    }\n",
              "    80% {\n",
              "      border-color: transparent;\n",
              "      border-right-color: var(--fill-color);\n",
              "      border-bottom-color: var(--fill-color);\n",
              "    }\n",
              "    90% {\n",
              "      border-color: transparent;\n",
              "      border-bottom-color: var(--fill-color);\n",
              "    }\n",
              "  }\n",
              "</style>\n",
              "\n",
              "  <script>\n",
              "    async function quickchart(key) {\n",
              "      const quickchartButtonEl =\n",
              "        document.querySelector('#' + key + ' button');\n",
              "      quickchartButtonEl.disabled = true;  // To prevent multiple clicks.\n",
              "      quickchartButtonEl.classList.add('colab-df-spinner');\n",
              "      try {\n",
              "        const charts = await google.colab.kernel.invokeFunction(\n",
              "            'suggestCharts', [key], {});\n",
              "      } catch (error) {\n",
              "        console.error('Error during call to suggestCharts:', error);\n",
              "      }\n",
              "      quickchartButtonEl.classList.remove('colab-df-spinner');\n",
              "      quickchartButtonEl.classList.add('colab-df-quickchart-complete');\n",
              "    }\n",
              "    (() => {\n",
              "      let quickchartButtonEl =\n",
              "        document.querySelector('#df-5e034730-b082-417d-bc5b-ae9a5fbcccfa button');\n",
              "      quickchartButtonEl.style.display =\n",
              "        google.colab.kernel.accessAllowed ? 'block' : 'none';\n",
              "    })();\n",
              "  </script>\n",
              "</div>\n",
              "\n",
              "  <div id=\"id_5e0e9df8-d276-4d08-bcc8-31c5047a43a8\">\n",
              "    <style>\n",
              "      .colab-df-generate {\n",
              "        background-color: #E8F0FE;\n",
              "        border: none;\n",
              "        border-radius: 50%;\n",
              "        cursor: pointer;\n",
              "        display: none;\n",
              "        fill: #1967D2;\n",
              "        height: 32px;\n",
              "        padding: 0 0 0 0;\n",
              "        width: 32px;\n",
              "      }\n",
              "\n",
              "      .colab-df-generate:hover {\n",
              "        background-color: #E2EBFA;\n",
              "        box-shadow: 0px 1px 2px rgba(60, 64, 67, 0.3), 0px 1px 3px 1px rgba(60, 64, 67, 0.15);\n",
              "        fill: #174EA6;\n",
              "      }\n",
              "\n",
              "      [theme=dark] .colab-df-generate {\n",
              "        background-color: #3B4455;\n",
              "        fill: #D2E3FC;\n",
              "      }\n",
              "\n",
              "      [theme=dark] .colab-df-generate:hover {\n",
              "        background-color: #434B5C;\n",
              "        box-shadow: 0px 1px 3px 1px rgba(0, 0, 0, 0.15);\n",
              "        filter: drop-shadow(0px 1px 2px rgba(0, 0, 0, 0.3));\n",
              "        fill: #FFFFFF;\n",
              "      }\n",
              "    </style>\n",
              "    <button class=\"colab-df-generate\" onclick=\"generateWithVariable('correlation_matrix')\"\n",
              "            title=\"Generate code using this dataframe.\"\n",
              "            style=\"display:none;\">\n",
              "\n",
              "  <svg xmlns=\"http://www.w3.org/2000/svg\" height=\"24px\"viewBox=\"0 0 24 24\"\n",
              "       width=\"24px\">\n",
              "    <path d=\"M7,19H8.4L18.45,9,17,7.55,7,17.6ZM5,21V16.75L18.45,3.32a2,2,0,0,1,2.83,0l1.4,1.43a1.91,1.91,0,0,1,.58,1.4,1.91,1.91,0,0,1-.58,1.4L9.25,21ZM18.45,9,17,7.55Zm-12,3A5.31,5.31,0,0,0,4.9,8.1,5.31,5.31,0,0,0,1,6.5,5.31,5.31,0,0,0,4.9,4.9,5.31,5.31,0,0,0,6.5,1,5.31,5.31,0,0,0,8.1,4.9,5.31,5.31,0,0,0,12,6.5,5.46,5.46,0,0,0,6.5,12Z\"/>\n",
              "  </svg>\n",
              "    </button>\n",
              "    <script>\n",
              "      (() => {\n",
              "      const buttonEl =\n",
              "        document.querySelector('#id_5e0e9df8-d276-4d08-bcc8-31c5047a43a8 button.colab-df-generate');\n",
              "      buttonEl.style.display =\n",
              "        google.colab.kernel.accessAllowed ? 'block' : 'none';\n",
              "\n",
              "      buttonEl.onclick = () => {\n",
              "        google.colab.notebook.generateWithVariable('correlation_matrix');\n",
              "      }\n",
              "      })();\n",
              "    </script>\n",
              "  </div>\n",
              "\n",
              "    </div>\n",
              "  </div>\n"
            ],
            "application/vnd.google.colaboratory.intrinsic+json": {
              "type": "dataframe",
              "variable_name": "correlation_matrix",
              "summary": "{\n  \"name\": \"correlation_matrix\",\n  \"rows\": 3,\n  \"fields\": [\n    {\n      \"column\": \"age\",\n      \"properties\": {\n        \"dtype\": \"number\",\n        \"std\": 0.5471950393161725,\n        \"min\": 0.036527189464106324,\n        \"max\": 1.0,\n        \"num_unique_values\": 3,\n        \"samples\": [\n          1.0,\n          0.036527189464106324,\n          0.06875570750955742\n        ],\n        \"semantic_type\": \"\",\n        \"description\": \"\"\n      }\n    },\n    {\n      \"column\": \"education_num\",\n      \"properties\": {\n        \"dtype\": \"number\",\n        \"std\": 0.5270085863577396,\n        \"min\": 0.036527189464106324,\n        \"max\": 1.0,\n        \"num_unique_values\": 3,\n        \"samples\": [\n          0.036527189464106324,\n          1.0,\n          0.1481227326229115\n        ],\n        \"semantic_type\": \"\",\n        \"description\": \"\"\n      }\n    },\n    {\n      \"column\": \"hours_per_week\",\n      \"properties\": {\n        \"dtype\": \"number\",\n        \"std\": 0.5162702676643349,\n        \"min\": 0.06875570750955742,\n        \"max\": 1.0,\n        \"num_unique_values\": 3,\n        \"samples\": [\n          0.06875570750955742,\n          0.1481227326229115,\n          1.0\n        ],\n        \"semantic_type\": \"\",\n        \"description\": \"\"\n      }\n    }\n  ]\n}"
            }
          },
          "metadata": {},
          "execution_count": 22
        }
      ]
    },
    {
      "cell_type": "code",
      "source": [
        "# Pearson correlation test\n",
        "stat, p = stats.pearsonr(income94['education_num'], income94['hours_per_week'])\n",
        "print('stat=%.3f, p=%.3f' % (stat, p))"
      ],
      "metadata": {
        "colab": {
          "base_uri": "https://localhost:8080/"
        },
        "id": "HBD2Dw514eAj",
        "outputId": "16d9188c-8d54-4470-afb3-ee325c420d6f"
      },
      "execution_count": 23,
      "outputs": [
        {
          "output_type": "stream",
          "name": "stdout",
          "text": [
            "stat=0.148, p=0.000\n"
          ]
        }
      ]
    },
    {
      "cell_type": "markdown",
      "source": [
        "***Correlation Q1(b) Ends***"
      ],
      "metadata": {
        "id": "Ges4izOT5E8v"
      }
    },
    {
      "cell_type": "markdown",
      "source": [
        "***\n",
        "***Correlation Q1(c) Starts***\n",
        "\n",
        "How does the correlation (and its significance) between education_num and age compare between male and female participants? Is this expected?"
      ],
      "metadata": {
        "id": "M7OiBirH6pvy"
      }
    },
    {
      "cell_type": "code",
      "source": [
        "# Subset the data by sex\n",
        "male_data = income94[income94['sex'] == 'Male']\n",
        "female_data = income94[income94['sex'] == 'Female']\n",
        "\n",
        "stat_male, p_male = stats.pearsonr(male_data['education_num'], male_data['age'])\n",
        "print('stat_male=%.3f, p_male=%.3f' % (stat_male, p_male))\n",
        "6\n",
        "stat_female, p_female = stats.pearsonr(female_data['education_num'], female_data['age'])\n",
        "print('stat_female=%.3f, p_female=%.3f' % (stat_female, p_female))"
      ],
      "metadata": {
        "colab": {
          "base_uri": "https://localhost:8080/"
        },
        "id": "EpjfizCz64n8",
        "outputId": "6c0dff93-052e-41ad-de06-5f75afc2471d"
      },
      "execution_count": 24,
      "outputs": [
        {
          "output_type": "stream",
          "name": "stdout",
          "text": [
            "stat_male=0.060, p_male=0.000\n",
            "stat_female=-0.018, p_female=0.063\n"
          ]
        }
      ]
    },
    {
      "cell_type": "markdown",
      "source": [
        "***Correlation Q1(c) Ends***"
      ],
      "metadata": {
        "id": "FwWOaqhB8LuM"
      }
    },
    {
      "cell_type": "markdown",
      "source": [
        "***\n",
        "***Correlation Q1(d) Starts***\n",
        "\n",
        "Compute the covariance matrix for education_num and hours_per_week. What conclusions can you draw from the covariance matrix?"
      ],
      "metadata": {
        "id": "153N1Vsd-lcD"
      }
    },
    {
      "cell_type": "code",
      "source": [
        "# Compute covariance matrix\n",
        "cov_matrix = income94[['education_num', 'hours_per_week']].cov()\n",
        "\n",
        "# Display the result\n",
        "print(cov_matrix)"
      ],
      "metadata": {
        "colab": {
          "base_uri": "https://localhost:8080/"
        },
        "id": "Q3WYHEK9-jQr",
        "outputId": "44e12b07-4a1c-4866-f698-d74e61d75618"
      },
      "execution_count": 25,
      "outputs": [
        {
          "output_type": "stream",
          "name": "stdout",
          "text": [
            "                education_num  hours_per_week\n",
            "education_num        6.618890        4.705338\n",
            "hours_per_week       4.705338      152.458995\n"
          ]
        }
      ]
    },
    {
      "cell_type": "markdown",
      "source": [
        "***Correlation Q1(d) Ends***"
      ],
      "metadata": {
        "id": "Wl1CHbfyAMqg"
      }
    },
    {
      "cell_type": "markdown",
      "source": [
        "***\n",
        "## Regression\n",
        "***\n",
        "1. Fit a linear regression with hours_per_week as the dependent variable and sex as the independent variable.\n",
        "  * Do men tend to work more hours?\n",
        "  * Add education_num as a control variable, does the trend in hours worked by men vs women remain the same? Is the coefficient for education_num statistically significant? What is the 95% confidence interval?\n",
        "  * Now add gross_income_group as a binary variable in the model and compare this model with the models including (i) only sex and (ii) sex and education_num.  Write down the interpretation for the coefficient for sex in each model.  What statistic(s) can help to decide which model is the “best”?  How do the three models compare?\n",
        "***\n",
        "***Regression Q1(a) Starts***\n",
        "\n",
        "Do men tend to work more hours?"
      ],
      "metadata": {
        "id": "HIdXgjIEB2Fh"
      }
    },
    {
      "cell_type": "code",
      "source": [
        "int_columns = income94.select_dtypes(include=['int64']).columns\n",
        "\n",
        "# Convert them to float\n",
        "income94[int_columns] = income94[int_columns].astype(float)\n",
        "\n",
        "# Display the updated data types\n",
        "print(income94.dtypes)"
      ],
      "metadata": {
        "colab": {
          "base_uri": "https://localhost:8080/"
        },
        "id": "6dv_CiIrG1Ti",
        "outputId": "6e65f545-965e-4449-8532-9b803733f25e"
      },
      "execution_count": 26,
      "outputs": [
        {
          "output_type": "stream",
          "name": "stdout",
          "text": [
            "age                   float64\n",
            "workclass              object\n",
            "fnlwgt                float64\n",
            "education              object\n",
            "education_num         float64\n",
            "marital_status         object\n",
            "occupation             object\n",
            "relationship           object\n",
            "race                   object\n",
            "sex                    object\n",
            "capital_gain          float64\n",
            "capital_loss          float64\n",
            "hours_per_week        float64\n",
            "native_country         object\n",
            "gross_income_group     object\n",
            "capital_gain_group     object\n",
            "capital_loss_group     object\n",
            "dtype: object\n"
          ]
        }
      ]
    },
    {
      "cell_type": "code",
      "source": [
        "# Fit the linear regression model using formula notation\n",
        "reg1 = smf.ols('hours_per_week ~ sex', data=income94).fit()\n",
        "\n",
        "# Display the regression summary\n",
        "print(reg1.summary())"
      ],
      "metadata": {
        "colab": {
          "base_uri": "https://localhost:8080/"
        },
        "id": "mD6z-GILCeEt",
        "outputId": "5938b9ca-22b4-4a6d-a63a-28523f79695d"
      },
      "execution_count": 27,
      "outputs": [
        {
          "output_type": "stream",
          "name": "stdout",
          "text": [
            "                            OLS Regression Results                            \n",
            "==============================================================================\n",
            "Dep. Variable:         hours_per_week   R-squared:                       0.053\n",
            "Model:                            OLS   Adj. R-squared:                  0.053\n",
            "Method:                 Least Squares   F-statistic:                     1807.\n",
            "Date:                Tue, 18 Feb 2025   Prob (F-statistic):               0.00\n",
            "Time:                        23:24:46   Log-Likelihood:            -1.2716e+05\n",
            "No. Observations:               32561   AIC:                         2.543e+05\n",
            "Df Residuals:                   32559   BIC:                         2.543e+05\n",
            "Df Model:                           1                                         \n",
            "Covariance Type:            nonrobust                                         \n",
            "===============================================================================\n",
            "                  coef    std err          t      P>|t|      [0.025      0.975]\n",
            "-------------------------------------------------------------------------------\n",
            "Intercept      36.4104      0.116    314.412      0.000      36.183      36.637\n",
            "sex[T.Male]     6.0177      0.142     42.510      0.000       5.740       6.295\n",
            "==============================================================================\n",
            "Omnibus:                     2649.390   Durbin-Watson:                   2.019\n",
            "Prob(Omnibus):                  0.000   Jarque-Bera (JB):            13090.867\n",
            "Skew:                           0.239   Prob(JB):                         0.00\n",
            "Kurtosis:                       6.069   Cond. No.                         3.24\n",
            "==============================================================================\n",
            "\n",
            "Notes:\n",
            "[1] Standard Errors assume that the covariance matrix of the errors is correctly specified.\n"
          ]
        }
      ]
    },
    {
      "cell_type": "markdown",
      "source": [
        "***Regression Q1(a) Ends***"
      ],
      "metadata": {
        "id": "GKq6vYjJI9pV"
      }
    },
    {
      "cell_type": "markdown",
      "source": [
        "***\n",
        "***Regression Q1(b) Starts***\n",
        "\n",
        "Add education_num as a control variable, does the trend in hours worked by men vs women remain the same? Is the coefficient for education_num statistically significant? What is the 95% confidence interval?"
      ],
      "metadata": {
        "id": "RTaXy7IgJF6c"
      }
    },
    {
      "cell_type": "code",
      "source": [
        "# Fit the linear regression model using formula notation\n",
        "reg2 = smf.ols('hours_per_week ~ sex + education_num', data=income94).fit()\n",
        "\n",
        "# Display the regression summary\n",
        "print(reg2.summary())"
      ],
      "metadata": {
        "colab": {
          "base_uri": "https://localhost:8080/"
        },
        "id": "5pZY67_KJFTa",
        "outputId": "969a1821-c6d8-4c5c-f59a-0f96fed022a3"
      },
      "execution_count": 28,
      "outputs": [
        {
          "output_type": "stream",
          "name": "stdout",
          "text": [
            "                            OLS Regression Results                            \n",
            "==============================================================================\n",
            "Dep. Variable:         hours_per_week   R-squared:                       0.074\n",
            "Model:                            OLS   Adj. R-squared:                  0.074\n",
            "Method:                 Least Squares   F-statistic:                     1295.\n",
            "Date:                Tue, 18 Feb 2025   Prob (F-statistic):               0.00\n",
            "Time:                        23:24:48   Log-Likelihood:            -1.2680e+05\n",
            "No. Observations:               32561   AIC:                         2.536e+05\n",
            "Df Residuals:                   32558   BIC:                         2.536e+05\n",
            "Df Model:                           2                                         \n",
            "Covariance Type:            nonrobust                                         \n",
            "=================================================================================\n",
            "                    coef    std err          t      P>|t|      [0.025      0.975]\n",
            "---------------------------------------------------------------------------------\n",
            "Intercept        29.4106      0.281    104.556      0.000      28.859      29.962\n",
            "sex[T.Male]       5.9709      0.140     42.653      0.000       5.697       6.245\n",
            "education_num     0.6975      0.026     27.244      0.000       0.647       0.748\n",
            "==============================================================================\n",
            "Omnibus:                     2783.881   Durbin-Watson:                   2.018\n",
            "Prob(Omnibus):                  0.000   Jarque-Bera (JB):            14492.060\n",
            "Skew:                           0.247   Prob(JB):                         0.00\n",
            "Kurtosis:                       6.231   Cond. No.                         45.6\n",
            "==============================================================================\n",
            "\n",
            "Notes:\n",
            "[1] Standard Errors assume that the covariance matrix of the errors is correctly specified.\n"
          ]
        }
      ]
    },
    {
      "cell_type": "markdown",
      "source": [
        "***Regression Q1(b) Ends***"
      ],
      "metadata": {
        "id": "Lx1WsC09J0gA"
      }
    },
    {
      "cell_type": "markdown",
      "source": [
        "***\n",
        "***Regression Q1(c) Starts***\n",
        "\n",
        "Now add gross_income_group as a binary variable in the model and compare this model with the models including (i) only sex and (ii) sex and education_num.  Write down the interpretation for the coefficient for sex in each model.  What statistic(s) can help to decide which model is the “best”?  How do the three models compare?"
      ],
      "metadata": {
        "id": "0alZxljNNcCk"
      }
    },
    {
      "cell_type": "code",
      "source": [
        "income94['income_binary'] = income94['gross_income_group'].apply(lambda x: 1 if x == '>50K' else 0)\n",
        "\n",
        "# Fit the linear regression model using formula notation\n",
        "reg3 = smf.ols('hours_per_week ~ sex + education_num + income_binary', data=income94).fit()\n",
        "\n",
        "# Display the regression summary\n",
        "print(reg3.summary())"
      ],
      "metadata": {
        "colab": {
          "base_uri": "https://localhost:8080/"
        },
        "id": "lQ9cThIAN1OZ",
        "outputId": "72007526-ae52-46f4-db8e-d8bbc7c15757"
      },
      "execution_count": 29,
      "outputs": [
        {
          "output_type": "stream",
          "name": "stdout",
          "text": [
            "                            OLS Regression Results                            \n",
            "==============================================================================\n",
            "Dep. Variable:         hours_per_week   R-squared:                       0.094\n",
            "Model:                            OLS   Adj. R-squared:                  0.094\n",
            "Method:                 Least Squares   F-statistic:                     1130.\n",
            "Date:                Tue, 18 Feb 2025   Prob (F-statistic):               0.00\n",
            "Time:                        23:24:50   Log-Likelihood:            -1.2643e+05\n",
            "No. Observations:               32561   AIC:                         2.529e+05\n",
            "Df Residuals:                   32557   BIC:                         2.529e+05\n",
            "Df Model:                           3                                         \n",
            "Covariance Type:            nonrobust                                         \n",
            "=================================================================================\n",
            "                    coef    std err          t      P>|t|      [0.025      0.975]\n",
            "---------------------------------------------------------------------------------\n",
            "Intercept        31.4218      0.288    109.184      0.000      30.858      31.986\n",
            "sex[T.Male]       5.1010      0.142     35.907      0.000       4.823       5.379\n",
            "education_num     0.4478      0.027     16.632      0.000       0.395       0.501\n",
            "income_binary     4.5175      0.166     27.229      0.000       4.192       4.843\n",
            "==============================================================================\n",
            "Omnibus:                     2984.190   Durbin-Watson:                   2.015\n",
            "Prob(Omnibus):                  0.000   Jarque-Bera (JB):            15467.160\n",
            "Skew:                           0.296   Prob(JB):                         0.00\n",
            "Kurtosis:                       6.324   Cond. No.                         48.1\n",
            "==============================================================================\n",
            "\n",
            "Notes:\n",
            "[1] Standard Errors assume that the covariance matrix of the errors is correctly specified.\n"
          ]
        }
      ]
    },
    {
      "cell_type": "code",
      "source": [
        "# Function to compute RSE and RMSE\n",
        "def model_performance(model):\n",
        "    residuals = model.resid  # Get residuals\n",
        "    n = len(residuals)       # Number of observations\n",
        "    p = model.df_model       # Number of predictors (excluding intercept)\n",
        "\n",
        "    # Compute RSE\n",
        "    RSS = sum(residuals**2)\n",
        "    RSE = np.sqrt(RSS / (n - p - 1))\n",
        "\n",
        "    # Compute RMSE (same as RSE when all predictors are included)\n",
        "    RMSE = np.sqrt(RSS / n)\n",
        "\n",
        "    # Get Adjusted R²\n",
        "    adj_r2 = model.rsquared_adj\n",
        "\n",
        "    return RSE, RMSE, adj_r2\n",
        "\n",
        "# Compute metrics for each model\n",
        "rse1, rmse1, adj_r2_1 = model_performance(reg1)\n",
        "rse2, rmse2, adj_r2_2 = model_performance(reg2)\n",
        "rse3, rmse3, adj_r2_3 = model_performance(reg3)\n",
        "\n",
        "# Print results\n",
        "print(f\"Model 1 (Sex Only) -> RSE: {rse1:.3f}, RMSE: {rmse1:.3f}, Adjusted R²: {adj_r2_1:.3f}\")\n",
        "print(f\"Model 2 (Sex + Education) -> RSE: {rse2:.3f}, RMSE: {rmse2:.3f}, Adjusted R²: {adj_r2_2:.3f}\")\n",
        "print(f\"Model 3 (Sex + Education + Income) -> RSE: {rse3:.3f}, RMSE: {rmse3:.3f}, Adjusted R²: {adj_r2_3:.3f}\")\n"
      ],
      "metadata": {
        "colab": {
          "base_uri": "https://localhost:8080/"
        },
        "id": "Tze6eejbTUmv",
        "outputId": "69824899-4d4d-419f-87de-e50d620a6269"
      },
      "execution_count": 30,
      "outputs": [
        {
          "output_type": "stream",
          "name": "stdout",
          "text": [
            "Model 1 (Sex Only) -> RSE: 12.019, RMSE: 12.018, Adjusted R²: 0.053\n",
            "Model 2 (Sex + Education) -> RSE: 11.884, RMSE: 11.884, Adjusted R²: 0.074\n",
            "Model 3 (Sex + Education + Income) -> RSE: 11.751, RMSE: 11.750, Adjusted R²: 0.094\n"
          ]
        }
      ]
    },
    {
      "cell_type": "markdown",
      "source": [
        "***Regression Q1(c) Ends***"
      ],
      "metadata": {
        "id": "tcfEYvf5XvWU"
      }
    },
    {
      "cell_type": "markdown",
      "source": [
        "***\n",
        "***\n",
        "## Part 3: Report\n",
        "***"
      ],
      "metadata": {
        "id": "logle7kqX2ZW"
      }
    },
    {
      "cell_type": "code",
      "source": [
        "# Fit the pre linear regression model using formula notation\n",
        "reg4 = smf.ols('hours_per_week ~ sex + race + marital_status + capital_loss_group', data=income94).fit()\n",
        "\n",
        "# Display the regression summary\n",
        "print(reg4.summary())"
      ],
      "metadata": {
        "colab": {
          "base_uri": "https://localhost:8080/"
        },
        "id": "dVzb6hOh0mAh",
        "outputId": "c342413b-9bfc-4b34-bb8d-446a4660acca"
      },
      "execution_count": 31,
      "outputs": [
        {
          "output_type": "stream",
          "name": "stdout",
          "text": [
            "                            OLS Regression Results                            \n",
            "==============================================================================\n",
            "Dep. Variable:         hours_per_week   R-squared:                       0.089\n",
            "Model:                            OLS   Adj. R-squared:                  0.089\n",
            "Method:                 Least Squares   F-statistic:                     265.5\n",
            "Date:                Tue, 18 Feb 2025   Prob (F-statistic):               0.00\n",
            "Time:                        23:24:54   Log-Likelihood:            -1.2652e+05\n",
            "No. Observations:               32561   AIC:                         2.531e+05\n",
            "Df Residuals:                   32548   BIC:                         2.532e+05\n",
            "Df Model:                          12                                         \n",
            "Covariance Type:            nonrobust                                         \n",
            "===========================================================================================================\n",
            "                                              coef    std err          t      P>|t|      [0.025      0.975]\n",
            "-----------------------------------------------------------------------------------------------------------\n",
            "Intercept                                  41.1798      0.754     54.603      0.000      39.702      42.658\n",
            "sex[T.Male]                                 4.6409      0.157     29.574      0.000       4.333       4.948\n",
            "race[T.Asian-Pac-Islander]                 -0.1612      0.762     -0.211      0.833      -1.655       1.333\n",
            "race[T.Black]                              -0.5663      0.701     -0.807      0.419      -1.941       0.809\n",
            "race[T.Other]                              -0.2517      0.980     -0.257      0.797      -2.172       1.669\n",
            "race[T.White]                               0.0866      0.672      0.129      0.897      -1.231       1.405\n",
            "marital_status[T.Married-AF-spouse]        -0.0635      2.464     -0.026      0.979      -4.893       4.766\n",
            "marital_status[T.Married-civ-spouse]       -0.3199      0.216     -1.482      0.138      -0.743       0.103\n",
            "marital_status[T.Married-spouse-absent]    -2.0285      0.605     -3.355      0.001      -3.214      -0.843\n",
            "marital_status[T.Never-married]            -4.9960      0.212    -23.560      0.000      -5.412      -4.580\n",
            "marital_status[T.Separated]                -1.7628      0.410     -4.301      0.000      -2.566      -0.959\n",
            "marital_status[T.Widowed]                  -7.1911      0.415    -17.316      0.000      -8.005      -6.377\n",
            "capital_loss_group[T.No Loss]              -1.8601      0.311     -5.987      0.000      -2.469      -1.251\n",
            "==============================================================================\n",
            "Omnibus:                     2963.743   Durbin-Watson:                   2.020\n",
            "Prob(Omnibus):                  0.000   Jarque-Bera (JB):            14475.472\n",
            "Skew:                           0.317   Prob(JB):                         0.00\n",
            "Kurtosis:                       6.204   Cond. No.                         70.7\n",
            "==============================================================================\n",
            "\n",
            "Notes:\n",
            "[1] Standard Errors assume that the covariance matrix of the errors is correctly specified.\n"
          ]
        }
      ]
    },
    {
      "cell_type": "code",
      "source": [],
      "metadata": {
        "id": "FdoVesSD2wdp"
      },
      "execution_count": null,
      "outputs": []
    },
    {
      "cell_type": "code",
      "source": [
        "# Fit the reduced linear regression model without race\n",
        "reg5 = smf.ols('hours_per_week ~ sex + marital_status + capital_loss_group', data=income94).fit()\n",
        "\n",
        "# Display the regression summary\n",
        "print(reg5.summary())"
      ],
      "metadata": {
        "colab": {
          "base_uri": "https://localhost:8080/"
        },
        "id": "mq35WI8j1g9c",
        "outputId": "7b7fd9c4-4e67-4e5e-ea78-dac86b2ad96c"
      },
      "execution_count": 32,
      "outputs": [
        {
          "output_type": "stream",
          "name": "stdout",
          "text": [
            "                            OLS Regression Results                            \n",
            "==============================================================================\n",
            "Dep. Variable:         hours_per_week   R-squared:                       0.089\n",
            "Model:                            OLS   Adj. R-squared:                  0.089\n",
            "Method:                 Least Squares   F-statistic:                     397.0\n",
            "Date:                Tue, 18 Feb 2025   Prob (F-statistic):               0.00\n",
            "Time:                        23:25:13   Log-Likelihood:            -1.2653e+05\n",
            "No. Observations:               32561   AIC:                         2.531e+05\n",
            "Df Residuals:                   32552   BIC:                         2.531e+05\n",
            "Df Model:                           8                                         \n",
            "Covariance Type:            nonrobust                                         \n",
            "===========================================================================================================\n",
            "                                              coef    std err          t      P>|t|      [0.025      0.975]\n",
            "-----------------------------------------------------------------------------------------------------------\n",
            "Intercept                                  41.1839      0.354    116.441      0.000      40.491      41.877\n",
            "sex[T.Male]                                 4.6739      0.157     29.858      0.000       4.367       4.981\n",
            "marital_status[T.Married-AF-spouse]        -0.0127      2.464     -0.005      0.996      -4.843       4.817\n",
            "marital_status[T.Married-civ-spouse]       -0.3057      0.216     -1.418      0.156      -0.728       0.117\n",
            "marital_status[T.Married-spouse-absent]    -2.0887      0.603     -3.462      0.001      -3.271      -0.906\n",
            "marital_status[T.Never-married]            -5.0175      0.212    -23.686      0.000      -5.433      -4.602\n",
            "marital_status[T.Separated]                -1.8622      0.408     -4.559      0.000      -2.663      -1.062\n",
            "marital_status[T.Widowed]                  -7.1985      0.415    -17.333      0.000      -8.013      -6.385\n",
            "capital_loss_group[T.No Loss]              -1.8697      0.311     -6.018      0.000      -2.479      -1.261\n",
            "==============================================================================\n",
            "Omnibus:                     2974.171   Durbin-Watson:                   2.020\n",
            "Prob(Omnibus):                  0.000   Jarque-Bera (JB):            14467.779\n",
            "Skew:                           0.321   Prob(JB):                         0.00\n",
            "Kurtosis:                       6.202   Cond. No.                         62.7\n",
            "==============================================================================\n",
            "\n",
            "Notes:\n",
            "[1] Standard Errors assume that the covariance matrix of the errors is correctly specified.\n"
          ]
        }
      ]
    },
    {
      "cell_type": "code",
      "source": [
        "# Fit the reduced linear regression model without race, education\n",
        "reg6 = smf.ols('hours_per_week ~ sex + capital_loss_group', data=income94).fit()\n",
        "\n",
        "# Display the regression summary\n",
        "print(reg6.summary())"
      ],
      "metadata": {
        "colab": {
          "base_uri": "https://localhost:8080/"
        },
        "id": "HF2uVhYw10IA",
        "outputId": "34f51464-78ef-414b-df82-fc962bd7f469"
      },
      "execution_count": 33,
      "outputs": [
        {
          "output_type": "stream",
          "name": "stdout",
          "text": [
            "                            OLS Regression Results                            \n",
            "==============================================================================\n",
            "Dep. Variable:         hours_per_week   R-squared:                       0.054\n",
            "Model:                            OLS   Adj. R-squared:                  0.054\n",
            "Method:                 Least Squares   F-statistic:                     934.0\n",
            "Date:                Tue, 18 Feb 2025   Prob (F-statistic):               0.00\n",
            "Time:                        23:25:28   Log-Likelihood:            -1.2713e+05\n",
            "No. Observations:               32561   AIC:                         2.543e+05\n",
            "Df Residuals:                   32558   BIC:                         2.543e+05\n",
            "Df Model:                           2                                         \n",
            "Covariance Type:            nonrobust                                         \n",
            "=================================================================================================\n",
            "                                    coef    std err          t      P>|t|      [0.025      0.975]\n",
            "-------------------------------------------------------------------------------------------------\n",
            "Intercept                        38.7306      0.326    118.729      0.000      38.091      39.370\n",
            "sex[T.Male]                       5.9732      0.142     42.196      0.000       5.696       6.251\n",
            "capital_loss_group[T.No Loss]    -2.4025      0.316     -7.607      0.000      -3.022      -1.784\n",
            "==============================================================================\n",
            "Omnibus:                     2658.814   Durbin-Watson:                   2.020\n",
            "Prob(Omnibus):                  0.000   Jarque-Bera (JB):            13167.227\n",
            "Skew:                           0.240   Prob(JB):                         0.00\n",
            "Kurtosis:                       6.078   Cond. No.                         10.5\n",
            "==============================================================================\n",
            "\n",
            "Notes:\n",
            "[1] Standard Errors assume that the covariance matrix of the errors is correctly specified.\n"
          ]
        }
      ]
    },
    {
      "cell_type": "code",
      "source": [
        "rse5, rmse5, adj_r2_5 = model_performance(reg5)\n",
        "rse6, rmse6, adj_r2_6 = model_performance(reg6)\n",
        "\n",
        "# Print results\n",
        "print(f\"Model 5 -> RSE: {rse5:.3f}, RMSE: {rmse5:.3f}, Adjusted R²: {adj_r2_5:.3f}\")\n",
        "print(f\"Model 6 -> RSE: {rse6:.3f}, RMSE: {rmse6:.3f}, Adjusted R²: {adj_r2_6:.3f}\")"
      ],
      "metadata": {
        "colab": {
          "base_uri": "https://localhost:8080/"
        },
        "id": "c7DyyVwE22vb",
        "outputId": "a23fa700-f4ef-4361-f228-dc71700ebc31"
      },
      "execution_count": 34,
      "outputs": [
        {
          "output_type": "stream",
          "name": "stdout",
          "text": [
            "Model 5 -> RSE: 11.787, RMSE: 11.786, Adjusted R²: 0.089\n",
            "Model 6 -> RSE: 12.008, RMSE: 12.008, Adjusted R²: 0.054\n"
          ]
        }
      ]
    }
  ]
}